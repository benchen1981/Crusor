{
 "cells": [
  {
   "cell_type": "markdown",
   "metadata": {},
   "source": [
    "# Analysis Notebook — AIIS-WH2\n",
    "\n",
    "This notebook follows CRISP-DM and contains the full pipeline. Replace `data/vehicle_data.csv` with the Kaggle file.\n"
   ]
  },
  {
   "cell_type": "markdown",
   "metadata": {},
   "source": [
    "## 1. Business & Data Understanding\n",
    "Describe business goal and dataset (CarDekho)."
   ]
  },
  {
   "cell_type": "code",
   "execution_count": 2,
   "metadata": {},
   "outputs": [
    {
     "name": "stdout",
     "output_type": "stream",
     "text": [
      "Place the Kaggle CSV at data/vehicle_data.csv\n"
     ]
    }
   ],
   "source": [
    "import pandas as pd\n",
    "import numpy as np\n",
    "import matplotlib.pyplot as plt\n",
    "%matplotlib inline\n",
    "\n",
    "path='data/vehicle_data.csv'\n",
    "try:\n",
    "    df = pd.read_csv(path)\n",
    "    print('Loaded', df.shape)\n",
    "except Exception as e:\n",
    "    print('Place the Kaggle CSV at', path)\n",
    "    df = None\n"
   ]
  },
  {
   "cell_type": "code",
   "execution_count": 3,
   "metadata": {},
   "outputs": [],
   "source": [
    "# Preprocessing example\n",
    "if df is not None:\n",
    "    display(df.head())\n",
    "    df = df.dropna().drop_duplicates()\n",
    "    # convert categorical to dummies\n",
    "    cat_cols = df.select_dtypes(include=['object']).columns.tolist()\n",
    "    df = pd.get_dummies(df, columns=cat_cols, drop_first=True)\n",
    "    print('After dummies', df.shape)\n"
   ]
  },
  {
   "cell_type": "code",
   "execution_count": 4,
   "metadata": {},
   "outputs": [],
   "source": [
    "# Modeling example: Linear Regression\n",
    "from sklearn.model_selection import train_test_split\n",
    "from sklearn.linear_model import LinearRegression\n",
    "from sklearn.feature_selection import RFE\n",
    "from sklearn.metrics import mean_squared_error, r2_score\n",
    "\n",
    "if df is not None:\n",
    "    if 'selling_price' not in df.columns:\n",
    "        raise SystemExit('Please ensure selling_price column exists')\n",
    "    y = df['selling_price']\n",
    "    X = df.drop(columns=['selling_price'])\n",
    "    X_train, X_test, y_train, y_test = train_test_split(X, y, test_size=0.2, random_state=42)\n",
    "    lr = LinearRegression().fit(X_train, y_train)\n",
    "    pred = lr.predict(X_test)\n",
    "    print('R2', r2_score(y_test, pred))\n"
   ]
  },
  {
   "cell_type": "code",
   "execution_count": 5,
   "metadata": {},
   "outputs": [],
   "source": [
    "# Confidence intervals via statsmodels OLS\n",
    "import statsmodels.api as sm\n",
    "if df is not None:\n",
    "    X2 = sm.add_constant(X_train)\n",
    "    ols = sm.OLS(y_train, X2).fit()\n",
    "    preds = ols.get_prediction(sm.add_constant(X_test))\n",
    "    frame = preds.summary_frame(alpha=0.05)\n",
    "    # frame contains mean, mean_ci_lower, mean_ci_upper, obs_ci_lower, obs_ci_upper\n",
    "    print(frame.head())\n"
   ]
  },
  {
   "cell_type": "markdown",
   "metadata": {},
   "source": [
    "## Evaluation and Plots\n",
    "Plot Actual vs Predicted with prediction intervals."
   ]
  }
 ],
 "metadata": {
  "kernelspec": {
   "display_name": "Python 3 (ipykernel)",
   "language": "python",
   "name": "python3"
  },
  "language_info": {
   "codemirror_mode": {
    "name": "ipython",
    "version": 3
   },
   "file_extension": ".py",
   "mimetype": "text/x-python",
   "name": "python",
   "nbconvert_exporter": "python",
   "pygments_lexer": "ipython3",
   "version": "3.13.5"
  }
 },
 "nbformat": 4,
 "nbformat_minor": 4
}
