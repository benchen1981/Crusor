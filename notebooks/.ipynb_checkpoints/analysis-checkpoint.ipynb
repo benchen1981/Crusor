{
  "cells": [
    {
      "cell_type": "markdown",
      "metadata": {},
      "source": [
        "# Analysis Notebook \u2014 AIIS-WH2\n\nThis notebook follows CRISP-DM and contains the full pipeline. Replace `data/vehicle_data.csv` with the Kaggle file.\n"
      ]
    },
    {
      "cell_type": "markdown",
      "metadata": {},
      "source": [
        "## 1. Business & Data Understanding\nDescribe business goal and dataset (CarDekho)."
      ]
    },
    {
      "cell_type": "code",
      "metadata": {},
      "source": [
        "import pandas as pd\nimport numpy as np\nimport matplotlib.pyplot as plt\n%matplotlib inline\n\npath='data/vehicle_data.csv'\ntry:\n    df = pd.read_csv(path)\n    print('Loaded', df.shape)\nexcept Exception as e:\n    print('Place the Kaggle CSV at', path)\n    df = None\n"
      ],
      "outputs": [],
      "execution_count": null
    },
    {
      "cell_type": "code",
      "metadata": {},
      "source": [
        "# Preprocessing example\nif df is not None:\n    display(df.head())\n    df = df.dropna().drop_duplicates()\n    # convert categorical to dummies\n    cat_cols = df.select_dtypes(include=['object']).columns.tolist()\n    df = pd.get_dummies(df, columns=cat_cols, drop_first=True)\n    print('After dummies', df.shape)\n"
      ],
      "outputs": [],
      "execution_count": null
    },
    {
      "cell_type": "code",
      "metadata": {},
      "source": [
        "# Modeling example: Linear Regression\nfrom sklearn.model_selection import train_test_split\nfrom sklearn.linear_model import LinearRegression\nfrom sklearn.feature_selection import RFE\nfrom sklearn.metrics import mean_squared_error, r2_score\n\nif df is not None:\n    if 'selling_price' not in df.columns:\n        raise SystemExit('Please ensure selling_price column exists')\n    y = df['selling_price']\n    X = df.drop(columns=['selling_price'])\n    X_train, X_test, y_train, y_test = train_test_split(X, y, test_size=0.2, random_state=42)\n    lr = LinearRegression().fit(X_train, y_train)\n    pred = lr.predict(X_test)\n    print('R2', r2_score(y_test, pred))\n"
      ],
      "outputs": [],
      "execution_count": null
    },
    {
      "cell_type": "code",
      "metadata": {},
      "source": [
        "# Confidence intervals via statsmodels OLS\nimport statsmodels.api as sm\nif df is not None:\n    X2 = sm.add_constant(X_train)\n    ols = sm.OLS(y_train, X2).fit()\n    preds = ols.get_prediction(sm.add_constant(X_test))\n    frame = preds.summary_frame(alpha=0.05)\n    # frame contains mean, mean_ci_lower, mean_ci_upper, obs_ci_lower, obs_ci_upper\n    print(frame.head())\n"
      ],
      "outputs": [],
      "execution_count": null
    },
    {
      "cell_type": "markdown",
      "metadata": {},
      "source": [
        "## Evaluation and Plots\nPlot Actual vs Predicted with prediction intervals."
      ]
    }
  ],
  "metadata": {
    "kernelspec": {
      "name": "python3",
      "display_name": "Python 3"
    },
    "language_info": {
      "name": "python"
    }
  },
  "nbformat": 4,
  "nbformat_minor": 2
}